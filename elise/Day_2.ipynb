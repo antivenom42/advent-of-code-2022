{
 "cells": [
  {
   "cell_type": "code",
   "execution_count": 1,
   "id": "0582c2ec",
   "metadata": {},
   "outputs": [],
   "source": [
    "import pandas as pd"
   ]
  },
  {
   "cell_type": "code",
   "execution_count": 90,
   "id": "698d6b3e",
   "metadata": {},
   "outputs": [],
   "source": [
    "with open(\"Data/Day_2.txt\") as file:\n",
    "    data = file.read()\n",
    "data = data.split(\"\\n\")"
   ]
  },
  {
   "cell_type": "markdown",
   "id": "a5891844",
   "metadata": {},
   "source": [
    "## Part 1"
   ]
  },
  {
   "cell_type": "code",
   "execution_count": 52,
   "id": "0ec8bad7",
   "metadata": {},
   "outputs": [],
   "source": [
    "def calc_points(i,j):\n",
    "    # A,X map to rock\n",
    "    # B,Y map to paper\n",
    "    # C, Z map to scissors\n",
    "    val1 = (ord(i)%65)%23 \n",
    "    val2 = (ord(j)%65)%23\n",
    "    dif = (val1 - val2)%3\n",
    "    score = {0:3, 1:0, 2:6}\n",
    "    total = val2 + score[dif]+1\n",
    "    return total"
   ]
  },
  {
   "cell_type": "code",
   "execution_count": 53,
   "id": "753f4b2f",
   "metadata": {},
   "outputs": [
    {
     "data": {
      "text/plain": [
       "14297"
      ]
     },
     "execution_count": 53,
     "metadata": {},
     "output_type": "execute_result"
    }
   ],
   "source": [
    "total = 0\n",
    "for d in data:\n",
    "    if len(d) == 3:\n",
    "        total = total + calc_points(d[0], d[2])\n",
    "total"
   ]
  },
  {
   "cell_type": "markdown",
   "id": "c6d40e04",
   "metadata": {},
   "source": [
    "## Part 2"
   ]
  },
  {
   "cell_type": "code",
   "execution_count": 91,
   "id": "3a5ad880",
   "metadata": {},
   "outputs": [],
   "source": [
    "def calc_points2(i,j):\n",
    "    val1 = (ord(i)%65)%23 \n",
    "    val2 = 3*((ord(j)%65)%23)\n",
    "    score = {0:2, 3:0, 6:1}\n",
    "    total = val2 + ((val1 + score[val2])%3) + 1\n",
    "    return total"
   ]
  },
  {
   "cell_type": "code",
   "execution_count": 92,
   "id": "98c82fe7",
   "metadata": {},
   "outputs": [
    {
     "data": {
      "text/plain": [
       "10498"
      ]
     },
     "execution_count": 92,
     "metadata": {},
     "output_type": "execute_result"
    }
   ],
   "source": [
    "total = 0\n",
    "for d in data:\n",
    "    if len(d) == 3:\n",
    "        total = total + calc_points2(d[0], d[2])\n",
    "total"
   ]
  },
  {
   "cell_type": "code",
   "execution_count": null,
   "id": "0f227f4c",
   "metadata": {},
   "outputs": [],
   "source": []
  }
 ],
 "metadata": {
  "kernelspec": {
   "display_name": "Python 3",
   "language": "python",
   "name": "python3"
  },
  "language_info": {
   "codemirror_mode": {
    "name": "ipython",
    "version": 3
   },
   "file_extension": ".py",
   "mimetype": "text/x-python",
   "name": "python",
   "nbconvert_exporter": "python",
   "pygments_lexer": "ipython3",
   "version": "3.8.8"
  }
 },
 "nbformat": 4,
 "nbformat_minor": 5
}
