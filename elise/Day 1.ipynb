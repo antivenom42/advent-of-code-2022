{
 "cells": [
  {
   "cell_type": "code",
   "execution_count": 1,
   "id": "cc8a8636",
   "metadata": {},
   "outputs": [],
   "source": [
    "import pandas as pd"
   ]
  },
  {
   "cell_type": "markdown",
   "id": "2c3d4f80",
   "metadata": {},
   "source": [
    "## Problem 1\n",
    "Goal: find the largest sum appearing that isn't seperated by new lines"
   ]
  },
  {
   "cell_type": "code",
   "execution_count": 3,
   "id": "bfaae50c",
   "metadata": {},
   "outputs": [],
   "source": [
    "with open(\"Data/Day1_1.txt\") as file:\n",
    "    data = file.read()\n",
    "     "
   ]
  },
  {
   "cell_type": "code",
   "execution_count": 4,
   "id": "0aedc2be",
   "metadata": {},
   "outputs": [],
   "source": [
    "data = data.split(\"\\n\")"
   ]
  },
  {
   "cell_type": "code",
   "execution_count": 5,
   "id": "bab22f14",
   "metadata": {},
   "outputs": [],
   "source": [
    "lm = 0\n",
    "total  = 0\n",
    "for d in data:\n",
    "    if len(d) == 0:\n",
    "        if total > lm:\n",
    "            lm = total\n",
    "        total = 0\n",
    "    else:\n",
    "        total = total + int(d)"
   ]
  },
  {
   "cell_type": "code",
   "execution_count": 6,
   "id": "806ce149",
   "metadata": {},
   "outputs": [
    {
     "data": {
      "text/plain": [
       "66616"
      ]
     },
     "execution_count": 6,
     "metadata": {},
     "output_type": "execute_result"
    }
   ],
   "source": [
    "lm"
   ]
  },
  {
   "cell_type": "markdown",
   "id": "2e1daf24",
   "metadata": {},
   "source": [
    "## Problem 2\n",
    "find the sum of the top 3 chunks not separated by new lines"
   ]
  },
  {
   "cell_type": "code",
   "execution_count": 7,
   "id": "cae1ec2c",
   "metadata": {},
   "outputs": [],
   "source": [
    "lm = [0,0,0]\n",
    "total  = 0\n",
    "for d in data:\n",
    "    if len(d) == 0:\n",
    "        if total > min(lm):\n",
    "            lm.append(total)\n",
    "            lm.sort()\n",
    "            lm = lm[1:4]\n",
    "        total = 0\n",
    "    else:\n",
    "        total = total + int(d)"
   ]
  },
  {
   "cell_type": "code",
   "execution_count": 8,
   "id": "2d38b887",
   "metadata": {},
   "outputs": [
    {
     "data": {
      "text/plain": [
       "199172"
      ]
     },
     "execution_count": 8,
     "metadata": {},
     "output_type": "execute_result"
    }
   ],
   "source": [
    "sum(lm)"
   ]
  },
  {
   "cell_type": "code",
   "execution_count": null,
   "id": "ba50939e",
   "metadata": {},
   "outputs": [],
   "source": []
  }
 ],
 "metadata": {
  "kernelspec": {
   "display_name": "Python 3 (ipykernel)",
   "language": "python",
   "name": "python3"
  },
  "language_info": {
   "codemirror_mode": {
    "name": "ipython",
    "version": 3
   },
   "file_extension": ".py",
   "mimetype": "text/x-python",
   "name": "python",
   "nbconvert_exporter": "python",
   "pygments_lexer": "ipython3",
   "version": "3.10.8"
  }
 },
 "nbformat": 4,
 "nbformat_minor": 5
}
