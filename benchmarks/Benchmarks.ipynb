{
 "cells": [
  {
   "cell_type": "code",
   "execution_count": 10,
   "id": "28da8c15",
   "metadata": {},
   "outputs": [],
   "source": [
    "%load_ext line_profiler"
   ]
  },
  {
   "cell_type": "markdown",
   "id": "ce09f6f1",
   "metadata": {},
   "source": [
    "# Day 1"
   ]
  },
  {
   "cell_type": "markdown",
   "id": "7b105de3",
   "metadata": {},
   "source": [
    "## Problem 1"
   ]
  },
  {
   "cell_type": "markdown",
   "id": "9e86eada",
   "metadata": {},
   "source": [
    "### Randy"
   ]
  },
  {
   "cell_type": "code",
   "execution_count": 22,
   "id": "d01a08ee",
   "metadata": {},
   "outputs": [
    {
     "name": "stdout",
     "output_type": "stream",
     "text": [
      "994 µs ± 27.8 µs per loop (mean ± std. dev. of 7 runs, 1,000 loops each)\n"
     ]
    }
   ],
   "source": [
    "%%timeit\n",
    "with open(\"../randy/day1_input.txt\", \"r\") as f:\n",
    "    day1 = f.read()\n",
    "max_calories = 0\n",
    "for elf in day1.split(\"\\n\\n\"):\n",
    "    items = elf.split(\"\\n\")\n",
    "    items = [int(item) for item in items]\n",
    "    total_calories = sum(items)\n",
    "    if total_calories > max_calories:\n",
    "        max_calories = total_calories\n",
    "max_calories"
   ]
  },
  {
   "cell_type": "markdown",
   "id": "ed58934d",
   "metadata": {},
   "source": [
    "### Elise"
   ]
  },
  {
   "cell_type": "code",
   "execution_count": 21,
   "id": "101ad034",
   "metadata": {},
   "outputs": [
    {
     "name": "stdout",
     "output_type": "stream",
     "text": [
      "1.16 ms ± 30.1 µs per loop (mean ± std. dev. of 7 runs, 1,000 loops each)\n"
     ]
    }
   ],
   "source": [
    "%%timeit\n",
    "with open(\"../randy/day1_input.txt\") as file:\n",
    "    data = file.read()\n",
    "data = data.split(\"\\n\")\n",
    "lm = 0\n",
    "total  = 0\n",
    "for d in data:\n",
    "    if len(d) == 0:\n",
    "        if total > lm:\n",
    "            lm = total\n",
    "        total = 0\n",
    "    else:\n",
    "        total = total + int(d)\n",
    "lm        "
   ]
  },
  {
   "cell_type": "markdown",
   "id": "bc1b28fd",
   "metadata": {},
   "source": [
    "## Problem 2"
   ]
  },
  {
   "cell_type": "markdown",
   "id": "0d7ab4a2",
   "metadata": {},
   "source": [
    "### Randy"
   ]
  },
  {
   "cell_type": "code",
   "execution_count": 27,
   "id": "8846a94c",
   "metadata": {},
   "outputs": [
    {
     "name": "stdout",
     "output_type": "stream",
     "text": [
      "1.02 ms ± 2.63 µs per loop (mean ± std. dev. of 7 runs, 1,000 loops each)\n"
     ]
    }
   ],
   "source": [
    "%%timeit\n",
    "with open(\"../randy/day1_input.txt\", \"r\") as f:\n",
    "    day1 = f.read()\n",
    "\n",
    "elf_totals = []\n",
    "for elf in day1.split(\"\\n\\n\"):\n",
    "    items = elf.split(\"\\n\")\n",
    "    items = [int(item) for item in items]\n",
    "    total_calories = sum(items)\n",
    "    elf_totals.append(total_calories)\n",
    "elf_totals.sort(reverse=True)\n",
    "sum(elf_totals[0:3])"
   ]
  },
  {
   "cell_type": "code",
   "execution_count": 35,
   "id": "0658778f",
   "metadata": {},
   "outputs": [
    {
     "name": "stdout",
     "output_type": "stream",
     "text": [
      " "
     ]
    }
   ],
   "source": [
    "%%prun\n",
    "with open(\"../randy/day1_input.txt\", \"r\") as f:\n",
    "    day1 = f.read()\n",
    "\n",
    "elf_totals = []\n",
    "for elf in day1.split(\"\\n\\n\"):\n",
    "    items = elf.split(\"\\n\")\n",
    "    items = [int(item) for item in items]\n",
    "    total_calories = sum(items)\n",
    "    elf_totals.append(total_calories)\n",
    "elf_totals.sort(reverse=True)\n",
    "sum(elf_totals[0:3])"
   ]
  },
  {
   "cell_type": "markdown",
   "id": "501e0279",
   "metadata": {},
   "source": [
    "### Elise"
   ]
  },
  {
   "cell_type": "code",
   "execution_count": 28,
   "id": "7f0dcc75",
   "metadata": {},
   "outputs": [
    {
     "name": "stdout",
     "output_type": "stream",
     "text": [
      "1.26 ms ± 13.8 µs per loop (mean ± std. dev. of 7 runs, 1,000 loops each)\n"
     ]
    }
   ],
   "source": [
    "%%timeit\n",
    "with open(\"../randy/day1_input.txt\") as file:\n",
    "    data = file.read()\n",
    "data = data.split(\"\\n\")\n",
    "lm = [0,0,0]\n",
    "total  = 0\n",
    "for d in data:\n",
    "    if len(d) == 0:\n",
    "        if total > min(lm):\n",
    "            lm.append(total)\n",
    "            lm.sort()\n",
    "            lm = lm[1:4]\n",
    "        total = 0\n",
    "    else:\n",
    "        total = total + int(d)\n",
    "sum(lm)        "
   ]
  },
  {
   "cell_type": "code",
   "execution_count": 36,
   "id": "5ea787e2",
   "metadata": {},
   "outputs": [
    {
     "name": "stdout",
     "output_type": "stream",
     "text": [
      " "
     ]
    }
   ],
   "source": [
    "%%prun\n",
    "with open(\"../randy/day1_input.txt\") as file:\n",
    "    data = file.read()\n",
    "data = data.split(\"\\n\")\n",
    "lm = [0,0,0]\n",
    "total  = 0\n",
    "for d in data:\n",
    "    if len(d) == 0:\n",
    "        if total > min(lm):\n",
    "            lm.append(total)\n",
    "            lm.sort()\n",
    "            lm = lm[1:4]\n",
    "        total = 0\n",
    "    else:\n",
    "        total = total + int(d)\n",
    "sum(lm)        "
   ]
  }
 ],
 "metadata": {
  "kernelspec": {
   "display_name": "Python 3 (ipykernel)",
   "language": "python",
   "name": "python3"
  },
  "language_info": {
   "codemirror_mode": {
    "name": "ipython",
    "version": 3
   },
   "file_extension": ".py",
   "mimetype": "text/x-python",
   "name": "python",
   "nbconvert_exporter": "python",
   "pygments_lexer": "ipython3",
   "version": "3.10.8"
  }
 },
 "nbformat": 4,
 "nbformat_minor": 5
}
