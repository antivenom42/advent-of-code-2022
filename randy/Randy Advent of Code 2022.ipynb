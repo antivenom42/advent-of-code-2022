{
 "cells": [
  {
   "cell_type": "markdown",
   "id": "73e5b3e8",
   "metadata": {},
   "source": [
    "# Advent of Code 2022\n",
    "Randy"
   ]
  },
  {
   "cell_type": "markdown",
   "id": "e2c13039",
   "metadata": {},
   "source": [
    "## Day 2\n",
    "### Part One\n",
    "```text\n",
    "--- Day 2: Rock Paper Scissors ---\n",
    "The Elves begin to set up camp on the beach. To decide whose tent gets to be closest to the snack storage, a giant Rock Paper Scissors tournament is already in progress.\n",
    "\n",
    "Rock Paper Scissors is a game between two players. Each game contains many rounds; in each round, the players each simultaneously choose one of Rock, Paper, or Scissors using a hand shape. Then, a winner for that round is selected: Rock defeats Scissors, Scissors defeats Paper, and Paper defeats Rock. If both players choose the same shape, the round instead ends in a draw.\n",
    "\n",
    "Appreciative of your help yesterday, one Elf gives you an encrypted strategy guide (your puzzle input) that they say will be sure to help you win. \"The first column is what your opponent is going to play: A for Rock, B for Paper, and C for Scissors. The second column--\" Suddenly, the Elf is called away to help with someone's tent.\n",
    "\n",
    "The second column, you reason, must be what you should play in response: X for Rock, Y for Paper, and Z for Scissors. Winning every time would be suspicious, so the responses must have been carefully chosen.\n",
    "\n",
    "The winner of the whole tournament is the player with the highest score. Your total score is the sum of your scores for each round. The score for a single round is the score for the shape you selected (1 for Rock, 2 for Paper, and 3 for Scissors) plus the score for the outcome of the round (0 if you lost, 3 if the round was a draw, and 6 if you won).\n",
    "\n",
    "Since you can't be sure if the Elf is trying to help you or trick you, you should calculate the score you would get if you were to follow the strategy guide.\n",
    "\n",
    "For example, suppose you were given the following strategy guide:\n",
    "\n",
    "A Y\n",
    "B X\n",
    "C Z\n",
    "This strategy guide predicts and recommends the following:\n",
    "\n",
    "In the first round, your opponent will choose Rock (A), and you should choose Paper (Y). This ends in a win for you with a score of 8 (2 because you chose Paper + 6 because you won).\n",
    "In the second round, your opponent will choose Paper (B), and you should choose Rock (X). This ends in a loss for you with a score of 1 (1 + 0).\n",
    "The third round is a draw with both players choosing Scissors, giving you a score of 3 + 3 = 6.\n",
    "In this example, if you were to follow the strategy guide, you would get a total score of 15 (8 + 1 + 6).\n",
    "\n",
    "What would your total score be if everything goes exactly according to your strategy guide?\n",
    "```"
   ]
  },
  {
   "cell_type": "code",
   "execution_count": 13,
   "id": "562c0e3f",
   "metadata": {},
   "outputs": [
    {
     "data": {
      "text/plain": [
       "9651"
      ]
     },
     "execution_count": 13,
     "metadata": {},
     "output_type": "execute_result"
    }
   ],
   "source": [
    "my_results = []\n",
    "with open(\"day2_input.txt\", \"r\") as f:\n",
    "    data = f.read()\n",
    "decoded = data.replace(\"A\", \"Rock\").replace(\"B\", \"Paper\").replace(\"C\", \"Scissors\").replace(\"X\", \"Rock\").replace(\"Y\", \"Paper\").replace(\"Z\", \"Scissors\")\n",
    "points_table = {\n",
    "    \"Rock Rock\": 4,\n",
    "    \"Rock Paper\": 8,\n",
    "    \"Rock Scissors\": 3,\n",
    "    \"Paper Rock\": 1,\n",
    "    \"Paper Paper\": 5,\n",
    "    \"Paper Scissors\": 9,\n",
    "    \"Scissors Rock\": 7,\n",
    "    \"Scissors Paper\": 2,\n",
    "    \"Scissors Scissors\": 6,\n",
    "}\n",
    "strategy_guide = decoded.split(\"\\n\")\n",
    "for i in strategy_guide:\n",
    "    my_results.append(points_table[i])\n",
    "sum(my_results)"
   ]
  },
  {
   "cell_type": "markdown",
   "id": "6ad02b72",
   "metadata": {},
   "source": [
    "### Part Two\n",
    "```text\n",
    "--- Part Two ---\n",
    "The Elf finishes helping with the tent and sneaks back over to you. \"Anyway, the second column says how the round needs to end: X means you need to lose, Y means you need to end the round in a draw, and Z means you need to win. Good luck!\"\n",
    "\n",
    "The total score is still calculated in the same way, but now you need to figure out what shape to choose so the round ends as indicated. The example above now goes like this:\n",
    "\n",
    "In the first round, your opponent will choose Rock (A), and you need the round to end in a draw (Y), so you also choose Rock. This gives you a score of 1 + 3 = 4.\n",
    "In the second round, your opponent will choose Paper (B), and you choose Rock so you lose (X) with a score of 1 + 0 = 1.\n",
    "In the third round, you will defeat your opponent's Scissors with Rock for a score of 1 + 6 = 7.\n",
    "Now that you're correctly decrypting the ultra top secret strategy guide, you would get a total score of 12.\n",
    "\n",
    "Following the Elf's instructions for the second column, what would your total score be if everything goes exactly according to your strategy guide?\n",
    "```"
   ]
  },
  {
   "cell_type": "code",
   "execution_count": 16,
   "id": "07ecd10d",
   "metadata": {},
   "outputs": [
    {
     "data": {
      "text/plain": [
       "10560"
      ]
     },
     "execution_count": 16,
     "metadata": {},
     "output_type": "execute_result"
    }
   ],
   "source": [
    "my_results = []\n",
    "with open(\"day2_input.txt\", \"r\") as f:\n",
    "    data = f.read()\n",
    "decoded = data.replace(\"A\", \"Rock\").replace(\"B\", \"Paper\").replace(\"C\", \"Scissors\").replace(\"X\", \"Lose\").replace(\"Y\", \"Draw\").replace(\"Z\", \"Win\")\n",
    "points_table = {\n",
    "    \"Rock Lose\": 3,\n",
    "    \"Rock Draw\": 4,\n",
    "    \"Rock Win\": 8,\n",
    "    \"Paper Lose\": 1,\n",
    "    \"Paper Draw\": 5,\n",
    "    \"Paper Win\": 9,\n",
    "    \"Scissors Lose\": 2,\n",
    "    \"Scissors Draw\": 6,\n",
    "    \"Scissors Win\": 7,\n",
    "}\n",
    "strategy_guide = decoded.split(\"\\n\")\n",
    "for i in strategy_guide:\n",
    "    my_results.append(points_table[i])\n",
    "sum(my_results)"
   ]
  },
  {
   "cell_type": "markdown",
   "id": "bc95f9ee",
   "metadata": {},
   "source": [
    "## Day 1"
   ]
  },
  {
   "cell_type": "markdown",
   "id": "ae3e8e80",
   "metadata": {},
   "source": [
    "### Part One\n",
    "```text\n",
    "The Elves take turns writing down the number of Calories contained by the various meals, snacks, rations, etc. that they've brought with them, one item per line. Each Elf separates their own inventory from the previous Elf's inventory (if any) by a blank line.\n",
    "\n",
    "For example, suppose the Elves finish writing their items' Calories and end up with the following list:\n",
    "\n",
    "1000\n",
    "2000\n",
    "3000\n",
    "\n",
    "4000\n",
    "\n",
    "5000\n",
    "6000\n",
    "\n",
    "7000\n",
    "8000\n",
    "9000\n",
    "\n",
    "10000\n",
    "This list represents the Calories of the food carried by five Elves:\n",
    "\n",
    "The first Elf is carrying food with 1000, 2000, and 3000 Calories, a total of 6000 Calories.\n",
    "The second Elf is carrying one food item with 4000 Calories.\n",
    "The third Elf is carrying food with 5000 and 6000 Calories, a total of 11000 Calories.\n",
    "The fourth Elf is carrying food with 7000, 8000, and 9000 Calories, a total of 24000 Calories.\n",
    "The fifth Elf is carrying one food item with 10000 Calories.\n",
    "In case the Elves get hungry and need extra snacks, they need to know which Elf to ask: they'd like to know how many Calories are being carried by the Elf carrying the most Calories. In the example above, this is 24000 (carried by the fourth Elf).\n",
    "\n",
    "Find the Elf carrying the most Calories. How many total Calories is that Elf carrying?\n",
    "```"
   ]
  },
  {
   "cell_type": "code",
   "execution_count": 23,
   "id": "8b565298",
   "metadata": {},
   "outputs": [
    {
     "data": {
      "text/plain": [
       "71023"
      ]
     },
     "execution_count": 23,
     "metadata": {},
     "output_type": "execute_result"
    }
   ],
   "source": [
    "with open(\"day1_input.txt\", \"r\") as f:\n",
    "    day1 = f.read()\n",
    "\n",
    "max_calories = 0\n",
    "for elf in day1.split(\"\\n\\n\"):\n",
    "    items = elf.split(\"\\n\")\n",
    "    items = [int(item) for item in items]\n",
    "    total_calories = sum(items)\n",
    "    if total_calories > max_calories:\n",
    "        max_calories = total_calories\n",
    "max_calories"
   ]
  },
  {
   "cell_type": "markdown",
   "id": "84c742d4",
   "metadata": {},
   "source": [
    "### Part Two\n",
    "```text\n",
    "--- Part Two ---\n",
    "By the time you calculate the answer to the Elves' question, they've already realized that the Elf carrying the most Calories of food might eventually run out of snacks.\n",
    "\n",
    "To avoid this unacceptable situation, the Elves would instead like to know the total Calories carried by the top three Elves carrying the most Calories. That way, even if one of those Elves runs out of snacks, they still have two backups.\n",
    "\n",
    "In the example above, the top three Elves are the fourth Elf (with 24000 Calories), then the third Elf (with 11000 Calories), then the fifth Elf (with 10000 Calories). The sum of the Calories carried by these three elves is 45000.\n",
    "\n",
    "Find the top three Elves carrying the most Calories. How many Calories are those Elves carrying in total?\n",
    "```"
   ]
  },
  {
   "cell_type": "code",
   "execution_count": 36,
   "id": "1b823bd7",
   "metadata": {},
   "outputs": [
    {
     "data": {
      "text/plain": [
       "206289"
      ]
     },
     "execution_count": 36,
     "metadata": {},
     "output_type": "execute_result"
    }
   ],
   "source": [
    "with open(\"day1_input.txt\", \"r\") as f:\n",
    "    day1 = f.read()\n",
    "\n",
    "elf_totals = []\n",
    "for elf in day1.split(\"\\n\\n\"):\n",
    "    items = elf.split(\"\\n\")\n",
    "    items = [int(item) for item in items]\n",
    "    total_calories = sum(items)\n",
    "    elf_totals.append(total_calories)\n",
    "elf_totals.sort(reverse=True)\n",
    "sum(elf_totals[0:3])"
   ]
  },
  {
   "cell_type": "code",
   "execution_count": null,
   "id": "182f3ce5",
   "metadata": {},
   "outputs": [],
   "source": []
  }
 ],
 "metadata": {
  "kernelspec": {
   "display_name": "Python 3 (ipykernel)",
   "language": "python",
   "name": "python3"
  },
  "language_info": {
   "codemirror_mode": {
    "name": "ipython",
    "version": 3
   },
   "file_extension": ".py",
   "mimetype": "text/x-python",
   "name": "python",
   "nbconvert_exporter": "python",
   "pygments_lexer": "ipython3",
   "version": "3.10.8"
  }
 },
 "nbformat": 4,
 "nbformat_minor": 5
}
