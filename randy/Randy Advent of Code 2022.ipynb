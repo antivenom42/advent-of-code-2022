{
 "cells": [
  {
   "cell_type": "markdown",
   "id": "73e5b3e8",
   "metadata": {},
   "source": [
    "# Advent of Code 2022\n",
    "Randy"
   ]
  },
  {
   "cell_type": "markdown",
   "id": "bc95f9ee",
   "metadata": {},
   "source": [
    "## Day 1"
   ]
  },
  {
   "cell_type": "markdown",
   "id": "ae3e8e80",
   "metadata": {},
   "source": [
    "### Part One\n",
    "```text\n",
    "The Elves take turns writing down the number of Calories contained by the various meals, snacks, rations, etc. that they've brought with them, one item per line. Each Elf separates their own inventory from the previous Elf's inventory (if any) by a blank line.\n",
    "\n",
    "For example, suppose the Elves finish writing their items' Calories and end up with the following list:\n",
    "\n",
    "1000\n",
    "2000\n",
    "3000\n",
    "\n",
    "4000\n",
    "\n",
    "5000\n",
    "6000\n",
    "\n",
    "7000\n",
    "8000\n",
    "9000\n",
    "\n",
    "10000\n",
    "This list represents the Calories of the food carried by five Elves:\n",
    "\n",
    "The first Elf is carrying food with 1000, 2000, and 3000 Calories, a total of 6000 Calories.\n",
    "The second Elf is carrying one food item with 4000 Calories.\n",
    "The third Elf is carrying food with 5000 and 6000 Calories, a total of 11000 Calories.\n",
    "The fourth Elf is carrying food with 7000, 8000, and 9000 Calories, a total of 24000 Calories.\n",
    "The fifth Elf is carrying one food item with 10000 Calories.\n",
    "In case the Elves get hungry and need extra snacks, they need to know which Elf to ask: they'd like to know how many Calories are being carried by the Elf carrying the most Calories. In the example above, this is 24000 (carried by the fourth Elf).\n",
    "\n",
    "Find the Elf carrying the most Calories. How many total Calories is that Elf carrying?\n",
    "```"
   ]
  },
  {
   "cell_type": "code",
   "execution_count": 23,
   "id": "8b565298",
   "metadata": {},
   "outputs": [
    {
     "data": {
      "text/plain": [
       "71023"
      ]
     },
     "execution_count": 23,
     "metadata": {},
     "output_type": "execute_result"
    }
   ],
   "source": [
    "with open(\"day1_input.txt\", \"r\") as f:\n",
    "    day1 = f.read()\n",
    "\n",
    "max_calories = 0\n",
    "for elf in day1.split(\"\\n\\n\"):\n",
    "    items = elf.split(\"\\n\")\n",
    "    items = [int(item) for item in items]\n",
    "    total_calories = sum(items)\n",
    "    if total_calories > max_calories:\n",
    "        max_calories = total_calories\n",
    "max_calories"
   ]
  },
  {
   "cell_type": "markdown",
   "id": "84c742d4",
   "metadata": {},
   "source": [
    "### Part Two\n",
    "```text\n",
    "--- Part Two ---\n",
    "By the time you calculate the answer to the Elves' question, they've already realized that the Elf carrying the most Calories of food might eventually run out of snacks.\n",
    "\n",
    "To avoid this unacceptable situation, the Elves would instead like to know the total Calories carried by the top three Elves carrying the most Calories. That way, even if one of those Elves runs out of snacks, they still have two backups.\n",
    "\n",
    "In the example above, the top three Elves are the fourth Elf (with 24000 Calories), then the third Elf (with 11000 Calories), then the fifth Elf (with 10000 Calories). The sum of the Calories carried by these three elves is 45000.\n",
    "\n",
    "Find the top three Elves carrying the most Calories. How many Calories are those Elves carrying in total?\n",
    "```"
   ]
  },
  {
   "cell_type": "code",
   "execution_count": 36,
   "id": "1b823bd7",
   "metadata": {},
   "outputs": [
    {
     "data": {
      "text/plain": [
       "206289"
      ]
     },
     "execution_count": 36,
     "metadata": {},
     "output_type": "execute_result"
    }
   ],
   "source": [
    "with open(\"day1_input.txt\", \"r\") as f:\n",
    "    day1 = f.read()\n",
    "\n",
    "elf_totals = []\n",
    "for elf in day1.split(\"\\n\\n\"):\n",
    "    items = elf.split(\"\\n\")\n",
    "    items = [int(item) for item in items]\n",
    "    total_calories = sum(items)\n",
    "    elf_totals.append(total_calories)\n",
    "elf_totals.sort(reverse=True)\n",
    "sum(elf_totals[0:3])"
   ]
  },
  {
   "cell_type": "code",
   "execution_count": null,
   "id": "182f3ce5",
   "metadata": {},
   "outputs": [],
   "source": []
  }
 ],
 "metadata": {
  "kernelspec": {
   "display_name": "Python 3 (ipykernel)",
   "language": "python",
   "name": "python3"
  },
  "language_info": {
   "codemirror_mode": {
    "name": "ipython",
    "version": 3
   },
   "file_extension": ".py",
   "mimetype": "text/x-python",
   "name": "python",
   "nbconvert_exporter": "python",
   "pygments_lexer": "ipython3",
   "version": "3.10.8"
  }
 },
 "nbformat": 4,
 "nbformat_minor": 5
}
